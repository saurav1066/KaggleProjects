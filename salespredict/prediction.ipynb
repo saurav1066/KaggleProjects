{
 "cells": [
  {
   "cell_type": "code",
   "execution_count": 1,
   "metadata": {},
   "outputs": [],
   "source": [
    "# in this project we perform SKU forecasting on a sales dataset. the available features are: order_number, order_date, customer_number, type, month, item_number (SKU), quantity, category, revenue, customer_source, order_source"
   ]
  },
  {
   "cell_type": "code",
   "execution_count": 2,
   "metadata": {},
   "outputs": [],
   "source": [
    "import pandas as pd\n",
    "import matplotlib.pyplot as plt\n",
    "import matplotlib.ticker as ticker\n",
    "import seaborn as sns"
   ]
  },
  {
   "cell_type": "code",
   "execution_count": 3,
   "metadata": {},
   "outputs": [
    {
     "data": {
      "text/html": [
       "<div>\n",
       "<style scoped>\n",
       "    .dataframe tbody tr th:only-of-type {\n",
       "        vertical-align: middle;\n",
       "    }\n",
       "\n",
       "    .dataframe tbody tr th {\n",
       "        vertical-align: top;\n",
       "    }\n",
       "\n",
       "    .dataframe thead th {\n",
       "        text-align: right;\n",
       "    }\n",
       "</style>\n",
       "<table border=\"1\" class=\"dataframe\">\n",
       "  <thead>\n",
       "    <tr style=\"text-align: right;\">\n",
       "      <th></th>\n",
       "      <th>order_number</th>\n",
       "      <th>order_date</th>\n",
       "      <th>customer_number</th>\n",
       "      <th>type</th>\n",
       "      <th>month</th>\n",
       "      <th>item_number</th>\n",
       "      <th>quantity</th>\n",
       "      <th>category</th>\n",
       "      <th>revenue</th>\n",
       "      <th>customer_source</th>\n",
       "      <th>order_source</th>\n",
       "    </tr>\n",
       "  </thead>\n",
       "  <tbody>\n",
       "    <tr>\n",
       "      <th>0</th>\n",
       "      <td>KE0001</td>\n",
       "      <td>2024-01-01</td>\n",
       "      <td>CKE0539</td>\n",
       "      <td>RETAIL</td>\n",
       "      <td>2024-01</td>\n",
       "      <td>KE0895</td>\n",
       "      <td>12</td>\n",
       "      <td>DIABETES</td>\n",
       "      <td>5.098618</td>\n",
       "      <td>direct</td>\n",
       "      <td>App</td>\n",
       "    </tr>\n",
       "    <tr>\n",
       "      <th>1</th>\n",
       "      <td>KE0001</td>\n",
       "      <td>2024-01-01</td>\n",
       "      <td>CKE0539</td>\n",
       "      <td>RETAIL</td>\n",
       "      <td>2024-01</td>\n",
       "      <td>KE1000</td>\n",
       "      <td>23</td>\n",
       "      <td>HYPERTENSIVES</td>\n",
       "      <td>12.460205</td>\n",
       "      <td>direct</td>\n",
       "      <td>App</td>\n",
       "    </tr>\n",
       "    <tr>\n",
       "      <th>2</th>\n",
       "      <td>KE0001</td>\n",
       "      <td>2024-01-01</td>\n",
       "      <td>CKE0539</td>\n",
       "      <td>RETAIL</td>\n",
       "      <td>2024-01</td>\n",
       "      <td>KE0921</td>\n",
       "      <td>12</td>\n",
       "      <td>HYPERTENSIVES</td>\n",
       "      <td>8.012194</td>\n",
       "      <td>direct</td>\n",
       "      <td>App</td>\n",
       "    </tr>\n",
       "    <tr>\n",
       "      <th>3</th>\n",
       "      <td>KE0002</td>\n",
       "      <td>2024-01-01</td>\n",
       "      <td>CKE0580</td>\n",
       "      <td>WHOLESALE</td>\n",
       "      <td>2024-01</td>\n",
       "      <td>KE0015</td>\n",
       "      <td>23</td>\n",
       "      <td>DIABETES</td>\n",
       "      <td>13.854194</td>\n",
       "      <td>agent</td>\n",
       "      <td>call</td>\n",
       "    </tr>\n",
       "    <tr>\n",
       "      <th>4</th>\n",
       "      <td>KE0002</td>\n",
       "      <td>2024-01-01</td>\n",
       "      <td>CKE0580</td>\n",
       "      <td>WHOLESALE</td>\n",
       "      <td>2024-01</td>\n",
       "      <td>KE0224</td>\n",
       "      <td>21</td>\n",
       "      <td>HYPERTENSIVES</td>\n",
       "      <td>10.534678</td>\n",
       "      <td>agent</td>\n",
       "      <td>call</td>\n",
       "    </tr>\n",
       "  </tbody>\n",
       "</table>\n",
       "</div>"
      ],
      "text/plain": [
       "  order_number  order_date customer_number       type    month item_number  \\\n",
       "0       KE0001  2024-01-01         CKE0539     RETAIL  2024-01      KE0895   \n",
       "1       KE0001  2024-01-01         CKE0539     RETAIL  2024-01      KE1000   \n",
       "2       KE0001  2024-01-01         CKE0539     RETAIL  2024-01      KE0921   \n",
       "3       KE0002  2024-01-01         CKE0580  WHOLESALE  2024-01      KE0015   \n",
       "4       KE0002  2024-01-01         CKE0580  WHOLESALE  2024-01      KE0224   \n",
       "\n",
       "   quantity       category    revenue customer_source order_source  \n",
       "0        12       DIABETES   5.098618          direct          App  \n",
       "1        23  HYPERTENSIVES  12.460205          direct          App  \n",
       "2        12  HYPERTENSIVES   8.012194          direct          App  \n",
       "3        23       DIABETES  13.854194           agent         call  \n",
       "4        21  HYPERTENSIVES  10.534678           agent         call  "
      ]
     },
     "execution_count": 3,
     "metadata": {},
     "output_type": "execute_result"
    }
   ],
   "source": [
    "# load the dataset\n",
    "df = pd.read_csv('data/sales.csv')\n",
    "df.head()\n"
   ]
  },
  {
   "cell_type": "code",
   "execution_count": 4,
   "metadata": {},
   "outputs": [
    {
     "data": {
      "text/html": [
       "<div>\n",
       "<style scoped>\n",
       "    .dataframe tbody tr th:only-of-type {\n",
       "        vertical-align: middle;\n",
       "    }\n",
       "\n",
       "    .dataframe tbody tr th {\n",
       "        vertical-align: top;\n",
       "    }\n",
       "\n",
       "    .dataframe thead th {\n",
       "        text-align: right;\n",
       "    }\n",
       "</style>\n",
       "<table border=\"1\" class=\"dataframe\">\n",
       "  <thead>\n",
       "    <tr style=\"text-align: right;\">\n",
       "      <th></th>\n",
       "      <th>order_date</th>\n",
       "      <th>item_number</th>\n",
       "      <th>quantity</th>\n",
       "    </tr>\n",
       "  </thead>\n",
       "  <tbody>\n",
       "    <tr>\n",
       "      <th>0</th>\n",
       "      <td>2024-01-01</td>\n",
       "      <td>KE0895</td>\n",
       "      <td>12</td>\n",
       "    </tr>\n",
       "    <tr>\n",
       "      <th>1</th>\n",
       "      <td>2024-01-01</td>\n",
       "      <td>KE1000</td>\n",
       "      <td>23</td>\n",
       "    </tr>\n",
       "    <tr>\n",
       "      <th>2</th>\n",
       "      <td>2024-01-01</td>\n",
       "      <td>KE0921</td>\n",
       "      <td>12</td>\n",
       "    </tr>\n",
       "    <tr>\n",
       "      <th>3</th>\n",
       "      <td>2024-01-01</td>\n",
       "      <td>KE0015</td>\n",
       "      <td>23</td>\n",
       "    </tr>\n",
       "    <tr>\n",
       "      <th>4</th>\n",
       "      <td>2024-01-01</td>\n",
       "      <td>KE0224</td>\n",
       "      <td>21</td>\n",
       "    </tr>\n",
       "  </tbody>\n",
       "</table>\n",
       "</div>"
      ],
      "text/plain": [
       "   order_date item_number  quantity\n",
       "0  2024-01-01      KE0895        12\n",
       "1  2024-01-01      KE1000        23\n",
       "2  2024-01-01      KE0921        12\n",
       "3  2024-01-01      KE0015        23\n",
       "4  2024-01-01      KE0224        21"
      ]
     },
     "execution_count": 4,
     "metadata": {},
     "output_type": "execute_result"
    }
   ],
   "source": [
    "# remove unnecessary columns\n",
    "df = df.drop(['order_number', 'customer_number', 'type', 'month', 'category', 'revenue', 'customer_source', 'order_source'], axis=1)\n",
    "df.head()"
   ]
  },
  {
   "cell_type": "code",
   "execution_count": 5,
   "metadata": {},
   "outputs": [
    {
     "name": "stdout",
     "output_type": "stream",
     "text": [
      "KE0818    85\n",
      "KE0363    84\n",
      "KE0494    82\n",
      "KE0914    82\n",
      "KE0258    82\n",
      "Name: item_number, dtype: int64\n",
      "KE0761    42\n",
      "KE0360    41\n",
      "KE0665    40\n",
      "KE0092    39\n",
      "KE0741    37\n",
      "Name: item_number, dtype: int64\n"
     ]
    }
   ],
   "source": [
    "# chck how many data points we have for each product and their total revenue. get the top 5 and the bottom 5 in the list and analyse them\n",
    "print(df['item_number'].value_counts().head(5))\n",
    "print(df['item_number'].value_counts().tail(5))\n"
   ]
  },
  {
   "cell_type": "code",
   "execution_count": 6,
   "metadata": {},
   "outputs": [
    {
     "data": {
      "text/plain": [
       "order_date     object\n",
       "item_number    object\n",
       "quantity        int64\n",
       "dtype: object"
      ]
     },
     "execution_count": 6,
     "metadata": {},
     "output_type": "execute_result"
    }
   ],
   "source": [
    "df.dtypes"
   ]
  },
  {
   "cell_type": "code",
   "execution_count": 7,
   "metadata": {},
   "outputs": [
    {
     "data": {
      "text/html": [
       "<div>\n",
       "<style scoped>\n",
       "    .dataframe tbody tr th:only-of-type {\n",
       "        vertical-align: middle;\n",
       "    }\n",
       "\n",
       "    .dataframe tbody tr th {\n",
       "        vertical-align: top;\n",
       "    }\n",
       "\n",
       "    .dataframe thead th {\n",
       "        text-align: right;\n",
       "    }\n",
       "</style>\n",
       "<table border=\"1\" class=\"dataframe\">\n",
       "  <thead>\n",
       "    <tr style=\"text-align: right;\">\n",
       "      <th></th>\n",
       "      <th>order_date</th>\n",
       "      <th>item_number</th>\n",
       "      <th>quantity</th>\n",
       "      <th>week</th>\n",
       "    </tr>\n",
       "  </thead>\n",
       "  <tbody>\n",
       "    <tr>\n",
       "      <th>0</th>\n",
       "      <td>2024-01-01</td>\n",
       "      <td>KE0895</td>\n",
       "      <td>12</td>\n",
       "      <td>1</td>\n",
       "    </tr>\n",
       "    <tr>\n",
       "      <th>1</th>\n",
       "      <td>2024-01-01</td>\n",
       "      <td>KE1000</td>\n",
       "      <td>23</td>\n",
       "      <td>1</td>\n",
       "    </tr>\n",
       "    <tr>\n",
       "      <th>2</th>\n",
       "      <td>2024-01-01</td>\n",
       "      <td>KE0921</td>\n",
       "      <td>12</td>\n",
       "      <td>1</td>\n",
       "    </tr>\n",
       "    <tr>\n",
       "      <th>3</th>\n",
       "      <td>2024-01-01</td>\n",
       "      <td>KE0015</td>\n",
       "      <td>23</td>\n",
       "      <td>1</td>\n",
       "    </tr>\n",
       "    <tr>\n",
       "      <th>4</th>\n",
       "      <td>2024-01-01</td>\n",
       "      <td>KE0224</td>\n",
       "      <td>21</td>\n",
       "      <td>1</td>\n",
       "    </tr>\n",
       "  </tbody>\n",
       "</table>\n",
       "</div>"
      ],
      "text/plain": [
       "  order_date item_number  quantity  week\n",
       "0 2024-01-01      KE0895        12     1\n",
       "1 2024-01-01      KE1000        23     1\n",
       "2 2024-01-01      KE0921        12     1\n",
       "3 2024-01-01      KE0015        23     1\n",
       "4 2024-01-01      KE0224        21     1"
      ]
     },
     "execution_count": 7,
     "metadata": {},
     "output_type": "execute_result"
    }
   ],
   "source": [
    "# convert order_date to datetime\n",
    "df['order_date'] = pd.to_datetime(df['order_date'])\n",
    "\n",
    "# create week column \n",
    "df['week'] = df['order_date'].dt.isocalendar().week\n",
    "df.head(5)"
   ]
  },
  {
   "cell_type": "code",
   "execution_count": 8,
   "metadata": {},
   "outputs": [
    {
     "name": "stdout",
     "output_type": "stream",
     "text": [
      "   week item_number  quantity\n",
      "0     1      KE0001         5\n",
      "1     1      KE0002        11\n",
      "2     1      KE0003        16\n",
      "3     1      KE0004        39\n",
      "4     1      KE0006        17\n",
      "\n",
      " df shape: (26062, 3)\n"
     ]
    }
   ],
   "source": [
    "# aggregate the data by week and item_number\n",
    "df = df.groupby(['week', 'item_number']).agg({'quantity':'sum'}).reset_index()\n",
    "print(df.head(5))\n",
    "print('\\n df shape:', df.shape)"
   ]
  },
  {
   "cell_type": "code",
   "execution_count": 9,
   "metadata": {},
   "outputs": [
    {
     "name": "stdout",
     "output_type": "stream",
     "text": [
      "       week item_number  quantity\n",
      "0         1      KE0001         5\n",
      "875       2      KE0001        19\n",
      "1748      3      KE0001        30\n",
      "2625      4      KE0001         5\n",
      "5237      7      KE0001        15\n",
      "6124      8      KE0001       137\n",
      "6982      9      KE0001        41\n",
      "7846     10      KE0001        18\n",
      "8730     11      KE0001        55\n",
      "9611     12      KE0001        40\n",
      "10477    13      KE0001        18\n",
      "11358    14      KE0001        24\n",
      "12240    15      KE0001        29\n",
      "13997    17      KE0001        29\n",
      "14890    18      KE0001        36\n",
      "15773    19      KE0001        41\n",
      "16642    20      KE0001        51\n",
      "17528    21      KE0001        86\n",
      "19305    23      KE0001        26\n",
      "20179    24      KE0001       100\n",
      "21061    25      KE0001        13\n",
      "22817    27      KE0001        18\n",
      "25453    30      KE0001        59\n"
     ]
    }
   ],
   "source": [
    "# print weekly sales for KE0001\n",
    "df_ke0001 = df[df['item_number'] == 'KE0001'] \n",
    "print(df_ke0001)"
   ]
  },
  {
   "cell_type": "code",
   "execution_count": 10,
   "metadata": {},
   "outputs": [],
   "source": [
    "# the data is not continuous, we need to fill in the missing weeks with 0 sales\n",
    "weeks = df['week'].unique()\n",
    "items = df['item_number'].unique()\n",
    "df = df.set_index(['week', 'item_number']).reindex(pd.MultiIndex.from_product([weeks, items], names=['week', 'item_number'])).reset_index()\n",
    "df['quantity'] = df['quantity'].fillna(0)"
   ]
  },
  {
   "cell_type": "code",
   "execution_count": 11,
   "metadata": {},
   "outputs": [
    {
     "name": "stdout",
     "output_type": "stream",
     "text": [
      "       week item_number  quantity\n",
      "0         1      KE0001       5.0\n",
      "1000      2      KE0001      19.0\n",
      "2000      3      KE0001      30.0\n",
      "3000      4      KE0001       5.0\n",
      "4000      5      KE0001       0.0\n",
      "5000      6      KE0001       0.0\n",
      "6000      7      KE0001      15.0\n",
      "7000      8      KE0001     137.0\n",
      "8000      9      KE0001      41.0\n",
      "9000     10      KE0001      18.0\n",
      "10000    11      KE0001      55.0\n",
      "11000    12      KE0001      40.0\n",
      "12000    13      KE0001      18.0\n",
      "13000    14      KE0001      24.0\n",
      "14000    15      KE0001      29.0\n",
      "15000    16      KE0001       0.0\n",
      "16000    17      KE0001      29.0\n",
      "17000    18      KE0001      36.0\n",
      "18000    19      KE0001      41.0\n",
      "19000    20      KE0001      51.0\n",
      "20000    21      KE0001      86.0\n",
      "21000    22      KE0001       0.0\n",
      "22000    23      KE0001      26.0\n",
      "23000    24      KE0001     100.0\n",
      "24000    25      KE0001      13.0\n",
      "25000    26      KE0001       0.0\n",
      "26000    27      KE0001      18.0\n",
      "27000    28      KE0001       0.0\n",
      "28000    29      KE0001       0.0\n",
      "29000    30      KE0001      59.0\n"
     ]
    }
   ],
   "source": [
    "df_ke0001 = df[df['item_number'] == 'KE0001'] \n",
    "print(df_ke0001)"
   ]
  },
  {
   "cell_type": "code",
   "execution_count": 12,
   "metadata": {},
   "outputs": [
    {
     "data": {
      "text/plain": [
       "array(['KE0001', 'KE0002', 'KE0003', 'KE0004', 'KE0006'], dtype=object)"
      ]
     },
     "execution_count": 12,
     "metadata": {},
     "output_type": "execute_result"
    }
   ],
   "source": [
    "unique_items = df['item_number'].unique()\n",
    "\n",
    "unique_items[:5]"
   ]
  },
  {
   "cell_type": "code",
   "execution_count": 13,
   "metadata": {},
   "outputs": [
    {
     "name": "stdout",
     "output_type": "stream",
     "text": [
      "Requirement already satisfied: statsmodels in c:\\users\\lenovo\\anaconda3\\lib\\site-packages (0.14.1)\n",
      "Requirement already satisfied: scipy!=1.9.2,>=1.4 in c:\\users\\lenovo\\anaconda3\\lib\\site-packages (from statsmodels) (1.6.2)\n",
      "Requirement already satisfied: numpy<2,>=1.18 in c:\\users\\lenovo\\anaconda3\\lib\\site-packages (from statsmodels) (1.22.4)\n",
      "Requirement already satisfied: patsy>=0.5.4 in c:\\users\\lenovo\\anaconda3\\lib\\site-packages (from statsmodels) (0.5.6)\n",
      "Requirement already satisfied: packaging>=21.3 in c:\\users\\lenovo\\anaconda3\\lib\\site-packages (from statsmodels) (24.1)\n",
      "Requirement already satisfied: pandas!=2.1.0,>=1.0 in c:\\users\\lenovo\\anaconda3\\lib\\site-packages (from statsmodels) (1.2.4)\n",
      "Requirement already satisfied: pytz>=2017.3 in c:\\users\\lenovo\\anaconda3\\lib\\site-packages (from pandas!=2.1.0,>=1.0->statsmodels) (2021.1)\n",
      "Requirement already satisfied: python-dateutil>=2.7.3 in c:\\users\\lenovo\\anaconda3\\lib\\site-packages (from pandas!=2.1.0,>=1.0->statsmodels) (2.8.1)\n",
      "Requirement already satisfied: six in c:\\users\\lenovo\\anaconda3\\lib\\site-packages (from patsy>=0.5.4->statsmodels) (1.15.0)\n",
      "Note: you may need to restart the kernel to use updated packages.\n"
     ]
    }
   ],
   "source": [
    "%pip install statsmodels"
   ]
  },
  {
   "cell_type": "code",
   "execution_count": 14,
   "metadata": {},
   "outputs": [
    {
     "name": "stderr",
     "output_type": "stream",
     "text": [
      "c:\\Users\\lenovo\\anaconda3\\lib\\site-packages\\statsmodels\\tsa\\base\\tsa_model.py:473: ValueWarning: An unsupported index was provided and will be ignored when e.g. forecasting.\n",
      "  self._init_dates(dates, freq)\n",
      "c:\\Users\\lenovo\\anaconda3\\lib\\site-packages\\statsmodels\\tsa\\base\\tsa_model.py:473: ValueWarning: An unsupported index was provided and will be ignored when e.g. forecasting.\n",
      "  self._init_dates(dates, freq)\n",
      "c:\\Users\\lenovo\\anaconda3\\lib\\site-packages\\statsmodels\\tsa\\base\\tsa_model.py:473: ValueWarning: An unsupported index was provided and will be ignored when e.g. forecasting.\n",
      "  self._init_dates(dates, freq)\n"
     ]
    }
   ],
   "source": [
    "# time series prediction model for df_ke0001 using ARIMA\n",
    "from statsmodels.tsa.arima.model import ARIMA\n",
    "from sklearn.metrics import mean_squared_error\n",
    "from math import sqrt\n",
    "\n",
    "# split the data into train and test\n",
    "train = df_ke0001[df_ke0001['week'] <= 25]\n",
    "test = df_ke0001[df_ke0001['week'] > 25]\n",
    "\n",
    "# fit the model\n",
    "model = ARIMA(train['quantity'], order=(5,1,0))\n",
    "model_fit = model.fit()\n"
   ]
  },
  {
   "cell_type": "code",
   "execution_count": 15,
   "metadata": {},
   "outputs": [
    {
     "name": "stderr",
     "output_type": "stream",
     "text": [
      "c:\\Users\\lenovo\\anaconda3\\lib\\site-packages\\statsmodels\\tsa\\base\\tsa_model.py:836: ValueWarning: No supported index is available. Prediction results will be given with an integer index beginning at `start`.\n",
      "  return get_prediction_index(\n",
      "c:\\Users\\lenovo\\anaconda3\\lib\\site-packages\\statsmodels\\tsa\\base\\tsa_model.py:836: FutureWarning: No supported index is available. In the next version, calling this method in a model without a supported index will result in an exception.\n",
      "  return get_prediction_index(\n"
     ]
    },
    {
     "name": "stdout",
     "output_type": "stream",
     "text": [
      "Test RMSE: 31.959\n"
     ]
    },
    {
     "data": {
      "image/png": "[encoded data removed]",
      "text/plain": [
       "<Figure size 864x432 with 1 Axes>"
      ]
     },
     "metadata": {
      "needs_background": "light"
     },
     "output_type": "display_data"
    }
   ],
   "source": [
    "# make predictions\n",
    "predictions = model_fit.forecast(steps=len(test))\n",
    "predictions = predictions.reset_index()\n",
    "predictions.columns = ['week', 'quantity']\n",
    "predictions['item_number'] = 'KE0001'\n",
    "predictions['week'] = predictions['week'].astype(int)\n",
    "predictions['quantity'] = predictions['quantity'].astype(int)\n",
    "\n",
    "# calculate the RMSE\n",
    "rmse = sqrt(mean_squared_error(test['quantity'], predictions['quantity']))\n",
    "print('Test RMSE: %.3f' % rmse)\n",
    "\n",
    "# plot the results\n",
    "plt.figure(figsize=(12, 6))\n",
    "plt.plot(train['week'], train['quantity'], label='Train')\n",
    "plt.plot(test['week'], test['quantity'], label='Test')\n",
    "plt.plot(predictions['week'], predictions['quantity'], label='Predictions')\n",
    "plt.legend()\n",
    "plt.show()\n"
   ]
  },
  {
   "cell_type": "code",
   "execution_count": 16,
   "metadata": {},
   "outputs": [
    {
     "name": "stderr",
     "output_type": "stream",
     "text": [
      "c:\\Users\\lenovo\\anaconda3\\lib\\site-packages\\statsmodels\\tsa\\base\\tsa_model.py:836: ValueWarning: No supported index is available. Prediction results will be given with an integer index beginning at `start`.\n",
      "  return get_prediction_index(\n",
      "c:\\Users\\lenovo\\anaconda3\\lib\\site-packages\\statsmodels\\tsa\\base\\tsa_model.py:836: FutureWarning: No supported index is available. In the next version, calling this method in a model without a supported index will result in an exception.\n",
      "  return get_prediction_index(\n"
     ]
    },
    {
     "data": {
      "image/png": "[encoded data removed]",
      "text/plain": [
       "<Figure size 864x432 with 1 Axes>"
      ]
     },
     "metadata": {
      "needs_background": "light"
     },
     "output_type": "display_data"
    }
   ],
   "source": [
    "# expand the prediction to get the data for next 12 weeks starting from week 31\n",
    "# plot the original data till 30 weeks and the forecasted data for the next 12 weeks\n",
    "forecast = model_fit.forecast(steps=12)\n",
    "forecast = forecast.reset_index()\n",
    "forecast.columns = ['week', 'quantity']\n",
    "forecast['item_number'] = 'KE0001'\n",
    "forecast['week'] = forecast['week'].astype(int)\n",
    "forecast['quantity'] = forecast['quantity'].astype(int)\n",
    "\n",
    "plt.figure(figsize=(12, 6))\n",
    "plt.plot(df_ke0001['week'], df_ke0001['quantity'], label='Original')\n",
    "plt.plot(forecast['week'], forecast['quantity'], label='Forecast')\n",
    "plt.legend()\n",
    "plt.show()\n"
   ]
  },
  {
   "cell_type": "code",
   "execution_count": 17,
   "metadata": {},
   "outputs": [
    {
     "name": "stderr",
     "output_type": "stream",
     "text": [
      "c:\\Users\\lenovo\\anaconda3\\lib\\site-packages\\statsmodels\\tsa\\base\\tsa_model.py:473: ValueWarning: An unsupported index was provided and will be ignored when e.g. forecasting.\n",
      "  self._init_dates(dates, freq)\n",
      "c:\\Users\\lenovo\\anaconda3\\lib\\site-packages\\statsmodels\\tsa\\base\\tsa_model.py:473: ValueWarning: An unsupported index was provided and will be ignored when e.g. forecasting.\n",
      "  self._init_dates(dates, freq)\n",
      "c:\\Users\\lenovo\\anaconda3\\lib\\site-packages\\statsmodels\\tsa\\base\\tsa_model.py:473: ValueWarning: An unsupported index was provided and will be ignored when e.g. forecasting.\n",
      "  self._init_dates(dates, freq)\n",
      "c:\\Users\\lenovo\\anaconda3\\lib\\site-packages\\statsmodels\\tsa\\base\\tsa_model.py:836: ValueWarning: No supported index is available. Prediction results will be given with an integer index beginning at `start`.\n",
      "  return get_prediction_index(\n",
      "c:\\Users\\lenovo\\anaconda3\\lib\\site-packages\\statsmodels\\tsa\\base\\tsa_model.py:836: FutureWarning: No supported index is available. In the next version, calling this method in a model without a supported index will result in an exception.\n",
      "  return get_prediction_index(\n"
     ]
    },
    {
     "data": {
      "image/png": "[encoded data removed]",
      "text/plain": [
       "<Figure size 864x432 with 1 Axes>"
      ]
     },
     "metadata": {
      "needs_background": "light"
     },
     "output_type": "display_data"
    }
   ],
   "source": [
    "# retrain the arima model for above and predict for the same item KE0001 from week 31 to 42\n",
    "\n",
    "# fit the model\n",
    "model = ARIMA(df_ke0001['quantity'], order=(5,1,0))\n",
    "model_fit = model.fit()\n",
    "\n",
    "# make predictions\n",
    "predictions = model_fit.forecast(steps=12)\n",
    "predictions = predictions.reset_index()\n",
    "predictions.columns = ['week', 'quantity']\n",
    "predictions['item_number'] = 'KE0001'\n",
    "predictions['week'] = predictions['week'].astype(int)\n",
    "predictions['quantity'] = predictions['quantity'].astype(int)\n",
    "\n",
    "# plot the results\n",
    "plt.figure(figsize=(12, 6))\n",
    "plt.plot(df_ke0001['week'], df_ke0001['quantity'], label='Original')\n",
    "plt.plot(predictions['week'], predictions['quantity'], label='Predictions')\n",
    "plt.legend()\n",
    "plt.show()\n",
    "\n",
    "\n",
    "\n"
   ]
  },
  {
   "cell_type": "code",
   "execution_count": null,
   "metadata": {},
   "outputs": [],
   "source": []
  }
 ],
 "metadata": {
  "kernelspec": {
   "display_name": "base",
   "language": "python",
   "name": "python3"
  },
  "language_info": {
   "codemirror_mode": {
    "name": "ipython",
    "version": 3
   },
   "file_extension": ".py",
   "mimetype": "text/x-python",
   "name": "python",
   "nbconvert_exporter": "python",
   "pygments_lexer": "ipython3",
   "version": "3.8.8"
  }
 },
 "nbformat": 4,
 "nbformat_minor": 2
}
