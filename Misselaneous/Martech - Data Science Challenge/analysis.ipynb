{
 "cells": [
  {
   "cell_type": "markdown",
   "metadata": {},
   "source": [
    "## Part 1 : EDA"
   ]
  },
  {
   "cell_type": "code",
   "execution_count": 263,
   "metadata": {},
   "outputs": [],
   "source": [
    "#Importing necessary libraries\n",
    "import numpy as np\n",
    "import pandas as pd\n",
    "import matplotlib.pyplot as plt\n",
    "import seaborn as sns"
   ]
  },
  {
   "cell_type": "code",
   "execution_count": 264,
   "metadata": {},
   "outputs": [
    {
     "data": {
      "text/html": [
       "<div>\n",
       "<style scoped>\n",
       "    .dataframe tbody tr th:only-of-type {\n",
       "        vertical-align: middle;\n",
       "    }\n",
       "\n",
       "    .dataframe tbody tr th {\n",
       "        vertical-align: top;\n",
       "    }\n",
       "\n",
       "    .dataframe thead th {\n",
       "        text-align: right;\n",
       "    }\n",
       "</style>\n",
       "<table border=\"1\" class=\"dataframe\">\n",
       "  <thead>\n",
       "    <tr style=\"text-align: right;\">\n",
       "      <th></th>\n",
       "      <th>customer_id</th>\n",
       "      <th>order_number</th>\n",
       "      <th>order_date</th>\n",
       "      <th>item_quantity_ordered</th>\n",
       "      <th>revenue</th>\n",
       "      <th>cumulative_revenue</th>\n",
       "      <th>customer_region</th>\n",
       "      <th>customer_gender</th>\n",
       "      <th>device</th>\n",
       "      <th>cost_of_living_rank</th>\n",
       "      <th>customer_lifetime_value</th>\n",
       "    </tr>\n",
       "  </thead>\n",
       "  <tbody>\n",
       "    <tr>\n",
       "      <th>0</th>\n",
       "      <td>d43cc724338819d3e6d86e4db4ae2525</td>\n",
       "      <td>fb69e40b059fc2c951ad2e9abd3cbdb4</td>\n",
       "      <td>2019-01-24</td>\n",
       "      <td>1</td>\n",
       "      <td>100.83</td>\n",
       "      <td>0.00</td>\n",
       "      <td>Nordrhein-Westfalen</td>\n",
       "      <td>f</td>\n",
       "      <td>desktop</td>\n",
       "      <td>8.0</td>\n",
       "      <td>0.00</td>\n",
       "    </tr>\n",
       "    <tr>\n",
       "      <th>1</th>\n",
       "      <td>e80173bffd43eaa806445a602c994a47</td>\n",
       "      <td>0a9c5da004072e042268d803d0682d6a</td>\n",
       "      <td>2019-01-09</td>\n",
       "      <td>3</td>\n",
       "      <td>277.29</td>\n",
       "      <td>0.00</td>\n",
       "      <td>Schlewig-Holstein</td>\n",
       "      <td>m</td>\n",
       "      <td>mobile</td>\n",
       "      <td>5.0</td>\n",
       "      <td>0.00</td>\n",
       "    </tr>\n",
       "    <tr>\n",
       "      <th>2</th>\n",
       "      <td>4ac7f94acda12131bd8380a6893b4e92</td>\n",
       "      <td>914981f42f4cae42023d0c18ef27d4b9</td>\n",
       "      <td>2019-01-29</td>\n",
       "      <td>1</td>\n",
       "      <td>42.01</td>\n",
       "      <td>672.25</td>\n",
       "      <td>Nordrhein-Westfalen</td>\n",
       "      <td>f</td>\n",
       "      <td>desktop</td>\n",
       "      <td>7.0</td>\n",
       "      <td>0.00</td>\n",
       "    </tr>\n",
       "    <tr>\n",
       "      <th>3</th>\n",
       "      <td>375338a5a6fe1ed0c01cfd2647faa89f</td>\n",
       "      <td>d6f752b53a133dd6640ad6d0aad20ffb</td>\n",
       "      <td>2019-01-06</td>\n",
       "      <td>1</td>\n",
       "      <td>571.42</td>\n",
       "      <td>0.00</td>\n",
       "      <td>Bayern</td>\n",
       "      <td>m</td>\n",
       "      <td>tablet</td>\n",
       "      <td>9.0</td>\n",
       "      <td>402.84</td>\n",
       "    </tr>\n",
       "    <tr>\n",
       "      <th>4</th>\n",
       "      <td>31472192d34b462b6b951ed33ec0c65c</td>\n",
       "      <td>015704b78f7970d33bb9be0396d5adc0</td>\n",
       "      <td>2019-01-18</td>\n",
       "      <td>4</td>\n",
       "      <td>678.96</td>\n",
       "      <td>278.55</td>\n",
       "      <td>Hessen</td>\n",
       "      <td>m</td>\n",
       "      <td>desktop</td>\n",
       "      <td>7.0</td>\n",
       "      <td>100.82</td>\n",
       "    </tr>\n",
       "  </tbody>\n",
       "</table>\n",
       "</div>"
      ],
      "text/plain": [
       "                        customer_id                      order_number  \\\n",
       "0  d43cc724338819d3e6d86e4db4ae2525  fb69e40b059fc2c951ad2e9abd3cbdb4   \n",
       "1  e80173bffd43eaa806445a602c994a47  0a9c5da004072e042268d803d0682d6a   \n",
       "2  4ac7f94acda12131bd8380a6893b4e92  914981f42f4cae42023d0c18ef27d4b9   \n",
       "3  375338a5a6fe1ed0c01cfd2647faa89f  d6f752b53a133dd6640ad6d0aad20ffb   \n",
       "4  31472192d34b462b6b951ed33ec0c65c  015704b78f7970d33bb9be0396d5adc0   \n",
       "\n",
       "   order_date  item_quantity_ordered  revenue  cumulative_revenue  \\\n",
       "0  2019-01-24                      1   100.83                0.00   \n",
       "1  2019-01-09                      3   277.29                0.00   \n",
       "2  2019-01-29                      1    42.01              672.25   \n",
       "3  2019-01-06                      1   571.42                0.00   \n",
       "4  2019-01-18                      4   678.96              278.55   \n",
       "\n",
       "       customer_region customer_gender   device  cost_of_living_rank  \\\n",
       "0  Nordrhein-Westfalen               f  desktop                  8.0   \n",
       "1    Schlewig-Holstein               m   mobile                  5.0   \n",
       "2  Nordrhein-Westfalen               f  desktop                  7.0   \n",
       "3               Bayern               m   tablet                  9.0   \n",
       "4               Hessen               m  desktop                  7.0   \n",
       "\n",
       "   customer_lifetime_value  \n",
       "0                     0.00  \n",
       "1                     0.00  \n",
       "2                     0.00  \n",
       "3                   402.84  \n",
       "4                   100.82  "
      ]
     },
     "execution_count": 264,
     "metadata": {},
     "output_type": "execute_result"
    }
   ],
   "source": [
    "# Reading the input data \n",
    "data = pd.read_csv('input.csv')\n",
    "data.head()"
   ]
  },
  {
   "cell_type": "markdown",
   "metadata": {},
   "source": [
    "### Checking the structure, missing values, datatypes and distribution of the data\n"
   ]
  },
  {
   "cell_type": "code",
   "execution_count": 265,
   "metadata": {},
   "outputs": [
    {
     "data": {
      "text/plain": [
       "(55161, 11)"
      ]
     },
     "execution_count": 265,
     "metadata": {},
     "output_type": "execute_result"
    }
   ],
   "source": [
    "# xgecking the shape of the data\n",
    "data.shape"
   ]
  },
  {
   "cell_type": "code",
   "execution_count": 266,
   "metadata": {},
   "outputs": [
    {
     "name": "stdout",
     "output_type": "stream",
     "text": [
      "<class 'pandas.core.frame.DataFrame'>\n",
      "RangeIndex: 55161 entries, 0 to 55160\n",
      "Data columns (total 11 columns):\n",
      " #   Column                   Non-Null Count  Dtype  \n",
      "---  ------                   --------------  -----  \n",
      " 0   customer_id              55161 non-null  object \n",
      " 1   order_number             55161 non-null  object \n",
      " 2   order_date               55161 non-null  object \n",
      " 3   item_quantity_ordered    55161 non-null  int64  \n",
      " 4   revenue                  55161 non-null  float64\n",
      " 5   cumulative_revenue       55161 non-null  float64\n",
      " 6   customer_region          51348 non-null  object \n",
      " 7   customer_gender          55161 non-null  object \n",
      " 8   device                   55161 non-null  object \n",
      " 9   cost_of_living_rank      54885 non-null  float64\n",
      " 10  customer_lifetime_value  55161 non-null  float64\n",
      "dtypes: float64(4), int64(1), object(6)\n",
      "memory usage: 4.6+ MB\n"
     ]
    }
   ],
   "source": [
    "# column information#\n",
    "data.info()"
   ]
  },
  {
   "cell_type": "code",
   "execution_count": 267,
   "metadata": {},
   "outputs": [
    {
     "data": {
      "text/plain": [
       "customer_id                   0\n",
       "order_number                  0\n",
       "order_date                    0\n",
       "item_quantity_ordered         0\n",
       "revenue                       0\n",
       "cumulative_revenue            0\n",
       "customer_region            3813\n",
       "customer_gender               0\n",
       "device                        0\n",
       "cost_of_living_rank         276\n",
       "customer_lifetime_value       0\n",
       "dtype: int64"
      ]
     },
     "execution_count": 267,
     "metadata": {},
     "output_type": "execute_result"
    }
   ],
   "source": [
    "# checking for missing values\n",
    "data.isnull().sum()"
   ]
  },
  {
   "cell_type": "markdown",
   "metadata": {},
   "source": [
    "As we can see there are some missing values in two of the columns 'customer_region' and 'cost_of_living_rank'. We will see how we handle them in preprocessing part\n"
   ]
  },
  {
   "cell_type": "code",
   "execution_count": 268,
   "metadata": {},
   "outputs": [
    {
     "data": {
      "text/plain": [
       "customer_id        55161\n",
       "order_number       55161\n",
       "order_date            31\n",
       "customer_region       15\n",
       "customer_gender        3\n",
       "device                 4\n",
       "dtype: int64"
      ]
     },
     "execution_count": 268,
     "metadata": {},
     "output_type": "execute_result"
    }
   ],
   "source": [
    "# checking number of unique values for categorical columns\n",
    "data.select_dtypes('object').nunique()\n",
    "\n"
   ]
  },
  {
   "cell_type": "markdown",
   "metadata": {},
   "source": [
    "The data seems well-structured, with a few notable points:\n",
    "\n",
    "* Missing Values: customer_region and cost_of_living_rank have missing values.\n",
    "* Data Types: order_date should be converted to a datetime format for better analysis.\n",
    "* Target Variable: customer_lifetime_value is the target for our prediction model."
   ]
  },
  {
   "cell_type": "code",
   "execution_count": 269,
   "metadata": {},
   "outputs": [
    {
     "data": {
      "text/html": [
       "<div>\n",
       "<style scoped>\n",
       "    .dataframe tbody tr th:only-of-type {\n",
       "        vertical-align: middle;\n",
       "    }\n",
       "\n",
       "    .dataframe tbody tr th {\n",
       "        vertical-align: top;\n",
       "    }\n",
       "\n",
       "    .dataframe thead th {\n",
       "        text-align: right;\n",
       "    }\n",
       "</style>\n",
       "<table border=\"1\" class=\"dataframe\">\n",
       "  <thead>\n",
       "    <tr style=\"text-align: right;\">\n",
       "      <th></th>\n",
       "      <th>item_quantity_ordered</th>\n",
       "      <th>revenue</th>\n",
       "      <th>cumulative_revenue</th>\n",
       "      <th>cost_of_living_rank</th>\n",
       "      <th>customer_lifetime_value</th>\n",
       "    </tr>\n",
       "  </thead>\n",
       "  <tbody>\n",
       "    <tr>\n",
       "      <th>count</th>\n",
       "      <td>55161.000000</td>\n",
       "      <td>55161.000000</td>\n",
       "      <td>55161.000000</td>\n",
       "      <td>54885.000000</td>\n",
       "      <td>55161.000000</td>\n",
       "    </tr>\n",
       "    <tr>\n",
       "      <th>mean</th>\n",
       "      <td>1.700150</td>\n",
       "      <td>256.728987</td>\n",
       "      <td>75.465794</td>\n",
       "      <td>7.373253</td>\n",
       "      <td>54.039912</td>\n",
       "    </tr>\n",
       "    <tr>\n",
       "      <th>std</th>\n",
       "      <td>1.510841</td>\n",
       "      <td>1921.036372</td>\n",
       "      <td>900.882710</td>\n",
       "      <td>2.389370</td>\n",
       "      <td>875.021999</td>\n",
       "    </tr>\n",
       "    <tr>\n",
       "      <th>min</th>\n",
       "      <td>1.000000</td>\n",
       "      <td>3.360000</td>\n",
       "      <td>0.000000</td>\n",
       "      <td>1.000000</td>\n",
       "      <td>0.000000</td>\n",
       "    </tr>\n",
       "    <tr>\n",
       "      <th>25%</th>\n",
       "      <td>1.000000</td>\n",
       "      <td>75.610000</td>\n",
       "      <td>0.000000</td>\n",
       "      <td>6.000000</td>\n",
       "      <td>0.000000</td>\n",
       "    </tr>\n",
       "    <tr>\n",
       "      <th>50%</th>\n",
       "      <td>1.000000</td>\n",
       "      <td>151.250000</td>\n",
       "      <td>0.000000</td>\n",
       "      <td>8.000000</td>\n",
       "      <td>0.000000</td>\n",
       "    </tr>\n",
       "    <tr>\n",
       "      <th>75%</th>\n",
       "      <td>2.000000</td>\n",
       "      <td>302.450000</td>\n",
       "      <td>0.000000</td>\n",
       "      <td>9.000000</td>\n",
       "      <td>0.000000</td>\n",
       "    </tr>\n",
       "    <tr>\n",
       "      <th>max</th>\n",
       "      <td>113.000000</td>\n",
       "      <td>200000.000000</td>\n",
       "      <td>200361.330000</td>\n",
       "      <td>10.000000</td>\n",
       "      <td>200109.240000</td>\n",
       "    </tr>\n",
       "  </tbody>\n",
       "</table>\n",
       "</div>"
      ],
      "text/plain": [
       "       item_quantity_ordered        revenue  cumulative_revenue  \\\n",
       "count           55161.000000   55161.000000        55161.000000   \n",
       "mean                1.700150     256.728987           75.465794   \n",
       "std                 1.510841    1921.036372          900.882710   \n",
       "min                 1.000000       3.360000            0.000000   \n",
       "25%                 1.000000      75.610000            0.000000   \n",
       "50%                 1.000000     151.250000            0.000000   \n",
       "75%                 2.000000     302.450000            0.000000   \n",
       "max               113.000000  200000.000000       200361.330000   \n",
       "\n",
       "       cost_of_living_rank  customer_lifetime_value  \n",
       "count         54885.000000             55161.000000  \n",
       "mean              7.373253                54.039912  \n",
       "std               2.389370               875.021999  \n",
       "min               1.000000                 0.000000  \n",
       "25%               6.000000                 0.000000  \n",
       "50%               8.000000                 0.000000  \n",
       "75%               9.000000                 0.000000  \n",
       "max              10.000000            200109.240000  "
      ]
     },
     "execution_count": 269,
     "metadata": {},
     "output_type": "execute_result"
    }
   ],
   "source": [
    "# Checking description of the dataset\n",
    "data.describe()"
   ]
  },
  {
   "cell_type": "markdown",
   "metadata": {},
   "source": [
    "As we can see there is significant differences in magnitude among the features indicating that some normalising may be benificial."
   ]
  },
  {
   "cell_type": "code",
   "execution_count": 270,
   "metadata": {},
   "outputs": [
    {
     "data": {
      "image/png": "[encoded data removed]",
      "text/plain": [
       "<Figure size 864x432 with 2 Axes>"
      ]
     },
     "metadata": {
      "needs_background": "light"
     },
     "output_type": "display_data"
    }
   ],
   "source": [
    "# Buidingg a correlation matrix\n",
    "corr = data.corr()\n",
    "plt.figure(figsize=(12,6))\n",
    "sns.heatmap(corr, annot=True, cmap='coolwarm', fmt='.2f', linewidths=2)\n",
    "plt.show()\n"
   ]
  },
  {
   "cell_type": "markdown",
   "metadata": {},
   "source": [
    "From the correlation matrix we can see there is some correlation among the features. Also some key insights can be derived.\n",
    "- Revenue has a moderate correlation with the target variable customer lifetime value. So it stands out as the primary predictor for our target variable.\n",
    "- Since revenue and cumulative revenue are correlated, so cumulative revenue might be less impactful unless transformed for any regression model.\n",
    "- Also cost of living rank shows absolutely no relation to the target variable which gives us an option to exclude it if the model gets complex.\n",
    "\n",
    "\n",
    "### Conclusion: Revenue seems to be the important feature for the target varibale. So focusing on revenue will simplify the model without compromising the accuracy.\n",
    "\n"
   ]
  },
  {
   "cell_type": "markdown",
   "metadata": {},
   "source": [
    "## Data Preparation"
   ]
  },
  {
   "cell_type": "code",
   "execution_count": 271,
   "metadata": {},
   "outputs": [],
   "source": [
    "# Handling missing values in cost of living rank and customer region\n",
    "# For categorical variables, lets fill missing values with the mode \n",
    "data['customer_region'].fillna(data['customer_region'].mode()[0], inplace=True)\n",
    "\n",
    "# For numerical variables, lets fill missing values with the median\n",
    "data['cost_of_living_rank'].fillna(data['cost_of_living_rank'].median(), inplace=True)"
   ]
  },
  {
   "cell_type": "markdown",
   "metadata": {},
   "source": [
    "For simplicity for now i am filling the categorical values with mode and the rank with median. I will explore other methods going forward as well but for now for simplicity I will be moving forward with this approach\n"
   ]
  },
  {
   "cell_type": "code",
   "execution_count": 272,
   "metadata": {},
   "outputs": [],
   "source": [
    "# converting the date column to datetime\n",
    "data['order_date'] = pd.to_datetime(data['order_date'])"
   ]
  },
  {
   "cell_type": "code",
   "execution_count": 273,
   "metadata": {},
   "outputs": [
    {
     "data": {
      "text/plain": [
       "Index(['customer_id', 'order_number', 'customer_region', 'customer_gender',\n",
       "       'device'],\n",
       "      dtype='object')"
      ]
     },
     "execution_count": 273,
     "metadata": {},
     "output_type": "execute_result"
    }
   ],
   "source": [
    "categorical_columns = data.select_dtypes('object').columns\n",
    "categorical_columns"
   ]
  },
  {
   "cell_type": "markdown",
   "metadata": {},
   "source": [
    "Since customer_id and order_number are unique identifiers we wil be encoding the other categorial variables only"
   ]
  },
  {
   "cell_type": "code",
   "execution_count": 274,
   "metadata": {},
   "outputs": [
    {
     "data": {
      "text/plain": [
       "Index(['item_quantity_ordered', 'revenue', 'cumulative_revenue',\n",
       "       'cost_of_living_rank'],\n",
       "      dtype='object')"
      ]
     },
     "execution_count": 274,
     "metadata": {},
     "output_type": "execute_result"
    }
   ],
   "source": [
    "# removing customer_id and order_number from categorical columns\n",
    "categorical_columns = categorical_columns.drop(['customer_id', 'order_number'])\n",
    "#print(categorical_columns)\n",
    "numerical_columns = data.select_dtypes('number').columns\n",
    "numerical_columns = numerical_columns.drop(['customer_lifetime_value'])\n",
    "numerical_columns"
   ]
  },
  {
   "cell_type": "code",
   "execution_count": 275,
   "metadata": {},
   "outputs": [
    {
     "data": {
      "text/html": [
       "<div>\n",
       "<style scoped>\n",
       "    .dataframe tbody tr th:only-of-type {\n",
       "        vertical-align: middle;\n",
       "    }\n",
       "\n",
       "    .dataframe tbody tr th {\n",
       "        vertical-align: top;\n",
       "    }\n",
       "\n",
       "    .dataframe thead th {\n",
       "        text-align: right;\n",
       "    }\n",
       "</style>\n",
       "<table border=\"1\" class=\"dataframe\">\n",
       "  <thead>\n",
       "    <tr style=\"text-align: right;\">\n",
       "      <th></th>\n",
       "      <th>customer_id</th>\n",
       "      <th>order_number</th>\n",
       "      <th>order_date</th>\n",
       "      <th>item_quantity_ordered</th>\n",
       "      <th>revenue</th>\n",
       "      <th>cumulative_revenue</th>\n",
       "      <th>cost_of_living_rank</th>\n",
       "      <th>customer_lifetime_value</th>\n",
       "      <th>customer_region_Bayern</th>\n",
       "      <th>customer_region_Berlin</th>\n",
       "      <th>...</th>\n",
       "      <th>customer_region_Rheinland-Pfalz</th>\n",
       "      <th>customer_region_Saarland</th>\n",
       "      <th>customer_region_Sachsen-Anhalt</th>\n",
       "      <th>customer_region_Schlewig-Holstein</th>\n",
       "      <th>customer_region_Thüringen</th>\n",
       "      <th>customer_gender_m</th>\n",
       "      <th>customer_gender_undefined</th>\n",
       "      <th>device_mobile</th>\n",
       "      <th>device_mobile-app</th>\n",
       "      <th>device_tablet</th>\n",
       "    </tr>\n",
       "  </thead>\n",
       "  <tbody>\n",
       "    <tr>\n",
       "      <th>0</th>\n",
       "      <td>d43cc724338819d3e6d86e4db4ae2525</td>\n",
       "      <td>fb69e40b059fc2c951ad2e9abd3cbdb4</td>\n",
       "      <td>2019-01-24</td>\n",
       "      <td>1</td>\n",
       "      <td>100.83</td>\n",
       "      <td>0.00</td>\n",
       "      <td>8.0</td>\n",
       "      <td>0.00</td>\n",
       "      <td>0</td>\n",
       "      <td>0</td>\n",
       "      <td>...</td>\n",
       "      <td>0</td>\n",
       "      <td>0</td>\n",
       "      <td>0</td>\n",
       "      <td>0</td>\n",
       "      <td>0</td>\n",
       "      <td>0</td>\n",
       "      <td>0</td>\n",
       "      <td>0</td>\n",
       "      <td>0</td>\n",
       "      <td>0</td>\n",
       "    </tr>\n",
       "    <tr>\n",
       "      <th>1</th>\n",
       "      <td>e80173bffd43eaa806445a602c994a47</td>\n",
       "      <td>0a9c5da004072e042268d803d0682d6a</td>\n",
       "      <td>2019-01-09</td>\n",
       "      <td>3</td>\n",
       "      <td>277.29</td>\n",
       "      <td>0.00</td>\n",
       "      <td>5.0</td>\n",
       "      <td>0.00</td>\n",
       "      <td>0</td>\n",
       "      <td>0</td>\n",
       "      <td>...</td>\n",
       "      <td>0</td>\n",
       "      <td>0</td>\n",
       "      <td>0</td>\n",
       "      <td>1</td>\n",
       "      <td>0</td>\n",
       "      <td>1</td>\n",
       "      <td>0</td>\n",
       "      <td>1</td>\n",
       "      <td>0</td>\n",
       "      <td>0</td>\n",
       "    </tr>\n",
       "    <tr>\n",
       "      <th>2</th>\n",
       "      <td>4ac7f94acda12131bd8380a6893b4e92</td>\n",
       "      <td>914981f42f4cae42023d0c18ef27d4b9</td>\n",
       "      <td>2019-01-29</td>\n",
       "      <td>1</td>\n",
       "      <td>42.01</td>\n",
       "      <td>672.25</td>\n",
       "      <td>7.0</td>\n",
       "      <td>0.00</td>\n",
       "      <td>0</td>\n",
       "      <td>0</td>\n",
       "      <td>...</td>\n",
       "      <td>0</td>\n",
       "      <td>0</td>\n",
       "      <td>0</td>\n",
       "      <td>0</td>\n",
       "      <td>0</td>\n",
       "      <td>0</td>\n",
       "      <td>0</td>\n",
       "      <td>0</td>\n",
       "      <td>0</td>\n",
       "      <td>0</td>\n",
       "    </tr>\n",
       "    <tr>\n",
       "      <th>3</th>\n",
       "      <td>375338a5a6fe1ed0c01cfd2647faa89f</td>\n",
       "      <td>d6f752b53a133dd6640ad6d0aad20ffb</td>\n",
       "      <td>2019-01-06</td>\n",
       "      <td>1</td>\n",
       "      <td>571.42</td>\n",
       "      <td>0.00</td>\n",
       "      <td>9.0</td>\n",
       "      <td>402.84</td>\n",
       "      <td>1</td>\n",
       "      <td>0</td>\n",
       "      <td>...</td>\n",
       "      <td>0</td>\n",
       "      <td>0</td>\n",
       "      <td>0</td>\n",
       "      <td>0</td>\n",
       "      <td>0</td>\n",
       "      <td>1</td>\n",
       "      <td>0</td>\n",
       "      <td>0</td>\n",
       "      <td>0</td>\n",
       "      <td>1</td>\n",
       "    </tr>\n",
       "    <tr>\n",
       "      <th>4</th>\n",
       "      <td>31472192d34b462b6b951ed33ec0c65c</td>\n",
       "      <td>015704b78f7970d33bb9be0396d5adc0</td>\n",
       "      <td>2019-01-18</td>\n",
       "      <td>4</td>\n",
       "      <td>678.96</td>\n",
       "      <td>278.55</td>\n",
       "      <td>7.0</td>\n",
       "      <td>100.82</td>\n",
       "      <td>0</td>\n",
       "      <td>0</td>\n",
       "      <td>...</td>\n",
       "      <td>0</td>\n",
       "      <td>0</td>\n",
       "      <td>0</td>\n",
       "      <td>0</td>\n",
       "      <td>0</td>\n",
       "      <td>1</td>\n",
       "      <td>0</td>\n",
       "      <td>0</td>\n",
       "      <td>0</td>\n",
       "      <td>0</td>\n",
       "    </tr>\n",
       "  </tbody>\n",
       "</table>\n",
       "<p>5 rows × 27 columns</p>\n",
       "</div>"
      ],
      "text/plain": [
       "                        customer_id                      order_number  \\\n",
       "0  d43cc724338819d3e6d86e4db4ae2525  fb69e40b059fc2c951ad2e9abd3cbdb4   \n",
       "1  e80173bffd43eaa806445a602c994a47  0a9c5da004072e042268d803d0682d6a   \n",
       "2  4ac7f94acda12131bd8380a6893b4e92  914981f42f4cae42023d0c18ef27d4b9   \n",
       "3  375338a5a6fe1ed0c01cfd2647faa89f  d6f752b53a133dd6640ad6d0aad20ffb   \n",
       "4  31472192d34b462b6b951ed33ec0c65c  015704b78f7970d33bb9be0396d5adc0   \n",
       "\n",
       "  order_date  item_quantity_ordered  revenue  cumulative_revenue  \\\n",
       "0 2019-01-24                      1   100.83                0.00   \n",
       "1 2019-01-09                      3   277.29                0.00   \n",
       "2 2019-01-29                      1    42.01              672.25   \n",
       "3 2019-01-06                      1   571.42                0.00   \n",
       "4 2019-01-18                      4   678.96              278.55   \n",
       "\n",
       "   cost_of_living_rank  customer_lifetime_value  customer_region_Bayern  \\\n",
       "0                  8.0                     0.00                       0   \n",
       "1                  5.0                     0.00                       0   \n",
       "2                  7.0                     0.00                       0   \n",
       "3                  9.0                   402.84                       1   \n",
       "4                  7.0                   100.82                       0   \n",
       "\n",
       "   customer_region_Berlin  ...  customer_region_Rheinland-Pfalz  \\\n",
       "0                       0  ...                                0   \n",
       "1                       0  ...                                0   \n",
       "2                       0  ...                                0   \n",
       "3                       0  ...                                0   \n",
       "4                       0  ...                                0   \n",
       "\n",
       "   customer_region_Saarland  customer_region_Sachsen-Anhalt  \\\n",
       "0                         0                               0   \n",
       "1                         0                               0   \n",
       "2                         0                               0   \n",
       "3                         0                               0   \n",
       "4                         0                               0   \n",
       "\n",
       "   customer_region_Schlewig-Holstein  customer_region_Thüringen  \\\n",
       "0                                  0                          0   \n",
       "1                                  1                          0   \n",
       "2                                  0                          0   \n",
       "3                                  0                          0   \n",
       "4                                  0                          0   \n",
       "\n",
       "   customer_gender_m  customer_gender_undefined  device_mobile  \\\n",
       "0                  0                          0              0   \n",
       "1                  1                          0              1   \n",
       "2                  0                          0              0   \n",
       "3                  1                          0              0   \n",
       "4                  1                          0              0   \n",
       "\n",
       "   device_mobile-app  device_tablet  \n",
       "0                  0              0  \n",
       "1                  0              0  \n",
       "2                  0              0  \n",
       "3                  0              1  \n",
       "4                  0              0  \n",
       "\n",
       "[5 rows x 27 columns]"
      ]
     },
     "execution_count": 275,
     "metadata": {},
     "output_type": "execute_result"
    }
   ],
   "source": [
    "# encoding categorical columns\n",
    "transformed_data = pd.get_dummies(data, columns=categorical_columns, drop_first=True)\n",
    "transformed_data.head()\n",
    "\n"
   ]
  },
  {
   "cell_type": "code",
   "execution_count": 276,
   "metadata": {},
   "outputs": [
    {
     "data": {
      "image/png": "[encoded data removed]",
      "text/plain": [
       "<Figure size 864x432 with 1 Axes>"
      ]
     },
     "metadata": {
      "needs_background": "light"
     },
     "output_type": "display_data"
    }
   ],
   "source": [
    "# Visualizing the distribution of the target variable\n",
    "plt.figure(figsize=(12,6))\n",
    "sns.histplot(transformed_data['customer_lifetime_value'], kde=True)\n",
    "plt.show()"
   ]
  },
  {
   "cell_type": "code",
   "execution_count": 277,
   "metadata": {},
   "outputs": [
    {
     "data": {
      "text/html": [
       "<div>\n",
       "<style scoped>\n",
       "    .dataframe tbody tr th:only-of-type {\n",
       "        vertical-align: middle;\n",
       "    }\n",
       "\n",
       "    .dataframe tbody tr th {\n",
       "        vertical-align: top;\n",
       "    }\n",
       "\n",
       "    .dataframe thead th {\n",
       "        text-align: right;\n",
       "    }\n",
       "</style>\n",
       "<table border=\"1\" class=\"dataframe\">\n",
       "  <thead>\n",
       "    <tr style=\"text-align: right;\">\n",
       "      <th></th>\n",
       "      <th>customer_id</th>\n",
       "      <th>order_number</th>\n",
       "      <th>order_date</th>\n",
       "      <th>item_quantity_ordered</th>\n",
       "      <th>revenue</th>\n",
       "      <th>cumulative_revenue</th>\n",
       "      <th>cost_of_living_rank</th>\n",
       "      <th>customer_lifetime_value</th>\n",
       "      <th>customer_region_Bayern</th>\n",
       "      <th>customer_region_Berlin</th>\n",
       "      <th>...</th>\n",
       "      <th>customer_region_Rheinland-Pfalz</th>\n",
       "      <th>customer_region_Saarland</th>\n",
       "      <th>customer_region_Sachsen-Anhalt</th>\n",
       "      <th>customer_region_Schlewig-Holstein</th>\n",
       "      <th>customer_region_Thüringen</th>\n",
       "      <th>customer_gender_m</th>\n",
       "      <th>customer_gender_undefined</th>\n",
       "      <th>device_mobile</th>\n",
       "      <th>device_mobile-app</th>\n",
       "      <th>device_tablet</th>\n",
       "    </tr>\n",
       "  </thead>\n",
       "  <tbody>\n",
       "    <tr>\n",
       "      <th>0</th>\n",
       "      <td>d43cc724338819d3e6d86e4db4ae2525</td>\n",
       "      <td>fb69e40b059fc2c951ad2e9abd3cbdb4</td>\n",
       "      <td>2019-01-24</td>\n",
       "      <td>-0.463422</td>\n",
       "      <td>-0.081154</td>\n",
       "      <td>-0.083769</td>\n",
       "      <td>0.261607</td>\n",
       "      <td>0.00</td>\n",
       "      <td>0</td>\n",
       "      <td>0</td>\n",
       "      <td>...</td>\n",
       "      <td>0</td>\n",
       "      <td>0</td>\n",
       "      <td>0</td>\n",
       "      <td>0</td>\n",
       "      <td>0</td>\n",
       "      <td>0</td>\n",
       "      <td>0</td>\n",
       "      <td>0</td>\n",
       "      <td>0</td>\n",
       "      <td>0</td>\n",
       "    </tr>\n",
       "    <tr>\n",
       "      <th>1</th>\n",
       "      <td>e80173bffd43eaa806445a602c994a47</td>\n",
       "      <td>0a9c5da004072e042268d803d0682d6a</td>\n",
       "      <td>2019-01-09</td>\n",
       "      <td>0.860356</td>\n",
       "      <td>0.010703</td>\n",
       "      <td>-0.083769</td>\n",
       "      <td>-0.996902</td>\n",
       "      <td>0.00</td>\n",
       "      <td>0</td>\n",
       "      <td>0</td>\n",
       "      <td>...</td>\n",
       "      <td>0</td>\n",
       "      <td>0</td>\n",
       "      <td>0</td>\n",
       "      <td>1</td>\n",
       "      <td>0</td>\n",
       "      <td>1</td>\n",
       "      <td>0</td>\n",
       "      <td>1</td>\n",
       "      <td>0</td>\n",
       "      <td>0</td>\n",
       "    </tr>\n",
       "    <tr>\n",
       "      <th>2</th>\n",
       "      <td>4ac7f94acda12131bd8380a6893b4e92</td>\n",
       "      <td>914981f42f4cae42023d0c18ef27d4b9</td>\n",
       "      <td>2019-01-29</td>\n",
       "      <td>-0.463422</td>\n",
       "      <td>-0.111773</td>\n",
       "      <td>0.662450</td>\n",
       "      <td>-0.157896</td>\n",
       "      <td>0.00</td>\n",
       "      <td>0</td>\n",
       "      <td>0</td>\n",
       "      <td>...</td>\n",
       "      <td>0</td>\n",
       "      <td>0</td>\n",
       "      <td>0</td>\n",
       "      <td>0</td>\n",
       "      <td>0</td>\n",
       "      <td>0</td>\n",
       "      <td>0</td>\n",
       "      <td>0</td>\n",
       "      <td>0</td>\n",
       "      <td>0</td>\n",
       "    </tr>\n",
       "    <tr>\n",
       "      <th>3</th>\n",
       "      <td>375338a5a6fe1ed0c01cfd2647faa89f</td>\n",
       "      <td>d6f752b53a133dd6640ad6d0aad20ffb</td>\n",
       "      <td>2019-01-06</td>\n",
       "      <td>-0.463422</td>\n",
       "      <td>0.163815</td>\n",
       "      <td>-0.083769</td>\n",
       "      <td>0.681110</td>\n",
       "      <td>402.84</td>\n",
       "      <td>1</td>\n",
       "      <td>0</td>\n",
       "      <td>...</td>\n",
       "      <td>0</td>\n",
       "      <td>0</td>\n",
       "      <td>0</td>\n",
       "      <td>0</td>\n",
       "      <td>0</td>\n",
       "      <td>1</td>\n",
       "      <td>0</td>\n",
       "      <td>0</td>\n",
       "      <td>0</td>\n",
       "      <td>1</td>\n",
       "    </tr>\n",
       "    <tr>\n",
       "      <th>4</th>\n",
       "      <td>31472192d34b462b6b951ed33ec0c65c</td>\n",
       "      <td>015704b78f7970d33bb9be0396d5adc0</td>\n",
       "      <td>2019-01-18</td>\n",
       "      <td>1.522245</td>\n",
       "      <td>0.219795</td>\n",
       "      <td>0.225430</td>\n",
       "      <td>-0.157896</td>\n",
       "      <td>100.82</td>\n",
       "      <td>0</td>\n",
       "      <td>0</td>\n",
       "      <td>...</td>\n",
       "      <td>0</td>\n",
       "      <td>0</td>\n",
       "      <td>0</td>\n",
       "      <td>0</td>\n",
       "      <td>0</td>\n",
       "      <td>1</td>\n",
       "      <td>0</td>\n",
       "      <td>0</td>\n",
       "      <td>0</td>\n",
       "      <td>0</td>\n",
       "    </tr>\n",
       "  </tbody>\n",
       "</table>\n",
       "<p>5 rows × 27 columns</p>\n",
       "</div>"
      ],
      "text/plain": [
       "                        customer_id                      order_number  \\\n",
       "0  d43cc724338819d3e6d86e4db4ae2525  fb69e40b059fc2c951ad2e9abd3cbdb4   \n",
       "1  e80173bffd43eaa806445a602c994a47  0a9c5da004072e042268d803d0682d6a   \n",
       "2  4ac7f94acda12131bd8380a6893b4e92  914981f42f4cae42023d0c18ef27d4b9   \n",
       "3  375338a5a6fe1ed0c01cfd2647faa89f  d6f752b53a133dd6640ad6d0aad20ffb   \n",
       "4  31472192d34b462b6b951ed33ec0c65c  015704b78f7970d33bb9be0396d5adc0   \n",
       "\n",
       "  order_date  item_quantity_ordered   revenue  cumulative_revenue  \\\n",
       "0 2019-01-24              -0.463422 -0.081154           -0.083769   \n",
       "1 2019-01-09               0.860356  0.010703           -0.083769   \n",
       "2 2019-01-29              -0.463422 -0.111773            0.662450   \n",
       "3 2019-01-06              -0.463422  0.163815           -0.083769   \n",
       "4 2019-01-18               1.522245  0.219795            0.225430   \n",
       "\n",
       "   cost_of_living_rank  customer_lifetime_value  customer_region_Bayern  \\\n",
       "0             0.261607                     0.00                       0   \n",
       "1            -0.996902                     0.00                       0   \n",
       "2            -0.157896                     0.00                       0   \n",
       "3             0.681110                   402.84                       1   \n",
       "4            -0.157896                   100.82                       0   \n",
       "\n",
       "   customer_region_Berlin  ...  customer_region_Rheinland-Pfalz  \\\n",
       "0                       0  ...                                0   \n",
       "1                       0  ...                                0   \n",
       "2                       0  ...                                0   \n",
       "3                       0  ...                                0   \n",
       "4                       0  ...                                0   \n",
       "\n",
       "   customer_region_Saarland  customer_region_Sachsen-Anhalt  \\\n",
       "0                         0                               0   \n",
       "1                         0                               0   \n",
       "2                         0                               0   \n",
       "3                         0                               0   \n",
       "4                         0                               0   \n",
       "\n",
       "   customer_region_Schlewig-Holstein  customer_region_Thüringen  \\\n",
       "0                                  0                          0   \n",
       "1                                  1                          0   \n",
       "2                                  0                          0   \n",
       "3                                  0                          0   \n",
       "4                                  0                          0   \n",
       "\n",
       "   customer_gender_m  customer_gender_undefined  device_mobile  \\\n",
       "0                  0                          0              0   \n",
       "1                  1                          0              1   \n",
       "2                  0                          0              0   \n",
       "3                  1                          0              0   \n",
       "4                  1                          0              0   \n",
       "\n",
       "   device_mobile-app  device_tablet  \n",
       "0                  0              0  \n",
       "1                  0              0  \n",
       "2                  0              0  \n",
       "3                  0              1  \n",
       "4                  0              0  \n",
       "\n",
       "[5 rows x 27 columns]"
      ]
     },
     "execution_count": 277,
     "metadata": {},
     "output_type": "execute_result"
    }
   ],
   "source": [
    "# scaling the numerical columns\n",
    "\n",
    "from sklearn.preprocessing import StandardScaler\n",
    "scaler = StandardScaler()\n",
    "transformed_data[numerical_columns] = scaler.fit_transform(transformed_data[numerical_columns])\n",
    "transformed_data.head()\n"
   ]
  },
  {
   "cell_type": "markdown",
   "metadata": {},
   "source": [
    "Now the missing data have been filled and the categorical variables have been encoded and the numerical columns have been scaled. I have also scaled scaled the target for now as i am not looking for using regularization or any tree based models\n"
   ]
  },
  {
   "cell_type": "markdown",
   "metadata": {},
   "source": [
    "## Modelling"
   ]
  },
  {
   "cell_type": "code",
   "execution_count": 278,
   "metadata": {},
   "outputs": [],
   "source": [
    "# Splitting the data into train and test\n",
    "from sklearn.model_selection import train_test_split\n",
    "X = transformed_data.drop(['customer_lifetime_value'], axis=1)\n",
    "y = transformed_data['customer_lifetime_value']\n",
    "X_train_transformed, X_test_transformed, y_train_transformed, y_test_transformed = train_test_split(X, y, test_size=0.2, random_state=42)"
   ]
  },
  {
   "cell_type": "code",
   "execution_count": 279,
   "metadata": {},
   "outputs": [],
   "source": [
    "# Using the customer_id and order_number columns as index\n",
    "X_train_transformed = X_train_transformed.set_index(['customer_id', 'order_number'])\n",
    "X_test_transformed = X_test_transformed.set_index(['customer_id', 'order_number'])\n"
   ]
  },
  {
   "cell_type": "code",
   "execution_count": 280,
   "metadata": {},
   "outputs": [
    {
     "name": "stdout",
     "output_type": "stream",
     "text": [
      "Mean Absolute Error: 93.01030837094972\n"
     ]
    }
   ],
   "source": [
    "# Building a linear regression model\n",
    "from sklearn.linear_model import LinearRegression\n",
    "from sklearn.metrics import  r2_score\n",
    "from sklearn.metrics import mean_absolute_error\n",
    "\n",
    "lr = LinearRegression()\n",
    "\n",
    "# Identify datetime columns\n",
    "datetime_cols = X_train_transformed.select_dtypes(include=['datetime64']).columns\n",
    "\n",
    "# Convert datetime columns to numerical values (e.g., timestamp)\n",
    "for col in datetime_cols:\n",
    "    X_train_transformed[col] = X_train_transformed[col].astype('int64') // 10**9  # Convert to seconds since epoch\n",
    "    X_test_transformed[col] = X_test_transformed[col].astype('int64') // 10**9\n",
    "\n",
    "# Now fit the model\n",
    "lr = LinearRegression()\n",
    "lr.fit(X_train_transformed, y_train_transformed)\n",
    "y_pred = lr.predict(X_test_transformed)\n",
    "mse = mean_absolute_error(y_test_transformed, y_pred)\n",
    "print(f'Mean Absolute Error: {mse}')\n"
   ]
  },
  {
   "cell_type": "markdown",
   "metadata": {},
   "source": [
    "As we see the absolute error is very high indicating the predictions from the model are really bad. Lets try removing the unrelated columns and try again"
   ]
  },
  {
   "cell_type": "markdown",
   "metadata": {},
   "source": [
    "Feature Selection:\n",
    "\n",
    "Keeping only Related features including Revenue, customer id as index, cum revenue, and item ordered\n",
    "\n",
    "Scaling and Encoding:\n",
    "\n",
    "Standard scaling is applied to numerical features, which is important for models sensitive to feature ranges, such as regression.\n",
    "\n",
    "\n",
    "The data is split into training (80%) and testing (20%) sets to assess model performance.\n",
    "The distribution of the log-transformed target variable in the training data to confirm normalization after the log transformation is visualised."
   ]
  },
  {
   "cell_type": "code",
   "execution_count": 281,
   "metadata": {},
   "outputs": [],
   "source": [
    "# Lets try the model with just customer id, revenue, cumulative revenus and items ordered\n",
    "\n",
    "mod_data = data[['customer_id', 'revenue', 'cumulative_revenue', 'item_quantity_ordered']]\n",
    "mod_target = data['customer_lifetime_value']\n",
    "\n",
    "\n"
   ]
  },
  {
   "cell_type": "code",
   "execution_count": 282,
   "metadata": {},
   "outputs": [
    {
     "data": {
      "text/plain": [
       "((44128, 4), (11033, 4), (44128,), (11033,))"
      ]
     },
     "execution_count": 282,
     "metadata": {},
     "output_type": "execute_result"
    }
   ],
   "source": [
    "# Splitting the data into train and test\n",
    "X_train, X_test, y_train, y_test = train_test_split(mod_data, mod_target, test_size=0.2, random_state=42)\n",
    "X_train.shape, X_test.shape, y_train.shape, y_test.shape"
   ]
  },
  {
   "cell_type": "markdown",
   "metadata": {},
   "source": [
    "Since none of these columns have any missing values lets move on"
   ]
  },
  {
   "cell_type": "code",
   "execution_count": 283,
   "metadata": {},
   "outputs": [
    {
     "name": "stdout",
     "output_type": "stream",
     "text": [
      "Mean Absolute Error: 88.51108002179373\n"
     ]
    }
   ],
   "source": [
    "from sklearn.linear_model import LinearRegression\n",
    "from sklearn.metrics import mean_absolute_error\n",
    "\n",
    "# set index\n",
    "X_train = X_train.set_index('customer_id')\n",
    "X_test = X_test.set_index('customer_id')\n",
    "\n",
    "# Initialize the LinearRegression model\n",
    "lr = LinearRegression()\n",
    "\n",
    "# Fit the model to the training data\n",
    "lr.fit(X_train, y_train)\n",
    "\n",
    "# Predict and calculate the mean absolute error using the linear regression model\n",
    "y_pred = lr.predict(X_test)\n",
    "mse = mean_absolute_error(y_test, y_pred)\n",
    "print(f'Mean Absolute Error: {mse}')\n"
   ]
  },
  {
   "cell_type": "markdown",
   "metadata": {},
   "source": [
    "Now the model is simple and it is getting better with just the related columns altough there might be other models that could be effective lets explore those\n"
   ]
  },
  {
   "cell_type": "code",
   "execution_count": 284,
   "metadata": {},
   "outputs": [
    {
     "name": "stdout",
     "output_type": "stream",
     "text": [
      "Best RandomForest: RandomForestRegressor(max_depth=10, n_estimators=50)\n",
      "Best LinearRegression: LinearRegression()\n",
      "Best Ridge: Ridge(alpha=10.0)\n",
      "Best GradientBoosting: GradientBoostingRegressor(n_estimators=150)\n"
     ]
    }
   ],
   "source": [
    "# Implementing gris search to find a best model and parameters\n",
    "\n",
    "from sklearn.model_selection import GridSearchCV\n",
    "from sklearn.ensemble import RandomForestRegressor, GradientBoostingRegressor\n",
    "from sklearn.linear_model import LinearRegression, Ridge\n",
    "from sklearn.metrics import mean_absolute_error\n",
    "\n",
    "# Initialize the RandomForestRegressor model\n",
    "rf = RandomForestRegressor()\n",
    "\n",
    "# Define the hyperparameters to tune\n",
    "param_grid = {\n",
    "    'n_estimators': [50, 100, 150],\n",
    "    'max_depth': [5, 10, 15]\n",
    "}\n",
    "# Define the models to be used in GridSearchCV\n",
    "models = {\n",
    "    'RandomForest': RandomForestRegressor(),\n",
    "    'LinearRegression': LinearRegression(),\n",
    "    'Ridge': Ridge(),\n",
    "    'GradientBoosting': GradientBoostingRegressor()\n",
    "}\n",
    "\n",
    "# Define the parameter grid for each model\n",
    "param_grids = {\n",
    "    'RandomForest': {\n",
    "        'n_estimators': [50, 100, 150],\n",
    "        'max_depth': [5, 10, 15]\n",
    "    },\n",
    "    'LinearRegression': {\n",
    "        'fit_intercept': [True, False]\n",
    "    },\n",
    "    'Ridge': {\n",
    "        'alpha': [0.1, 1.0, 10.0],\n",
    "        'fit_intercept': [True, False]\n",
    "    },\n",
    "    'GradientBoosting': {\n",
    "        'n_estimators': [50, 100, 150],\n",
    "        'learning_rate': [0.01, 0.1, 0.2],\n",
    "        'max_depth': [3, 5, 7]\n",
    "    }\n",
    "}\n",
    "\n",
    "# Perform GridSearchCV for each model\n",
    "best_models = {}\n",
    "for model_name in models:\n",
    "    grid_search = GridSearchCV(estimator=models[model_name], param_grid=param_grids[model_name], cv=5, scoring='neg_mean_absolute_error', n_jobs=-1)\n",
    "    grid_search.fit(X_train, y_train)\n",
    "    best_models[model_name] = grid_search.best_estimator_\n",
    "\n",
    "# Print the best model for each algorithm\n",
    "for model_name, model in best_models.items():\n",
    "    print(f\"Best {model_name}: {model}\")\n"
   ]
  },
  {
   "cell_type": "code",
   "execution_count": 285,
   "metadata": {},
   "outputs": [
    {
     "name": "stdout",
     "output_type": "stream",
     "text": [
      "Mean Absolute Error: 81.68049312247352\n"
     ]
    }
   ],
   "source": [
    "# Predict and calculate the mean absolute error using the best model\n",
    "y_pred = best_models['RandomForest'].predict(X_test)\n",
    "mse = mean_absolute_error(y_test, y_pred)\n",
    "print(f'Mean Absolute Error: {mse}')\n"
   ]
  },
  {
   "cell_type": "markdown",
   "metadata": {},
   "source": [
    "Here by just using an ensemble tree method model the results have shown some promise. But still this model is based on no preprocessing whats so ever . Lets try fitting the same model for the preprocessed data.\n"
   ]
  },
  {
   "cell_type": "code",
   "execution_count": 286,
   "metadata": {},
   "outputs": [
    {
     "name": "stdout",
     "output_type": "stream",
     "text": [
      "Mean Absolute Error: 83.60304724129786\n"
     ]
    }
   ],
   "source": [
    "# Fitting the best nodel to the transformed data\n",
    "best_models['RandomForest'].fit(X_train_transformed, y_train_transformed)\n",
    "\n",
    "# Predict and calculate the mean absolute error using the best model\n",
    "y_pred = best_models['RandomForest'].predict(X_test_transformed)\n",
    "mse = mean_absolute_error(y_test_transformed, y_pred)\n",
    "print(f'Mean Absolute Error: {mse}')\n",
    "\n"
   ]
  },
  {
   "cell_type": "markdown",
   "metadata": {},
   "source": [
    "It is indeed better than the linear regression. But as we saw in the EDA part the revenue which we concluded might be the important feature for the analysis of target variable might not be in a good shape and scaling the target variable like that would be a problem at times as well. So lets try a transformation approach with only the important variables again."
   ]
  },
  {
   "cell_type": "code",
   "execution_count": 287,
   "metadata": {},
   "outputs": [
    {
     "data": {
      "text/html": [
       "<div>\n",
       "<style scoped>\n",
       "    .dataframe tbody tr th:only-of-type {\n",
       "        vertical-align: middle;\n",
       "    }\n",
       "\n",
       "    .dataframe tbody tr th {\n",
       "        vertical-align: top;\n",
       "    }\n",
       "\n",
       "    .dataframe thead th {\n",
       "        text-align: right;\n",
       "    }\n",
       "</style>\n",
       "<table border=\"1\" class=\"dataframe\">\n",
       "  <thead>\n",
       "    <tr style=\"text-align: right;\">\n",
       "      <th></th>\n",
       "      <th>customer_id</th>\n",
       "      <th>revenue</th>\n",
       "      <th>cumulative_revenue</th>\n",
       "      <th>item_quantity_ordered</th>\n",
       "    </tr>\n",
       "  </thead>\n",
       "  <tbody>\n",
       "    <tr>\n",
       "      <th>0</th>\n",
       "      <td>d43cc724338819d3e6d86e4db4ae2525</td>\n",
       "      <td>100.83</td>\n",
       "      <td>0.00</td>\n",
       "      <td>1</td>\n",
       "    </tr>\n",
       "    <tr>\n",
       "      <th>1</th>\n",
       "      <td>e80173bffd43eaa806445a602c994a47</td>\n",
       "      <td>277.29</td>\n",
       "      <td>0.00</td>\n",
       "      <td>3</td>\n",
       "    </tr>\n",
       "    <tr>\n",
       "      <th>2</th>\n",
       "      <td>4ac7f94acda12131bd8380a6893b4e92</td>\n",
       "      <td>42.01</td>\n",
       "      <td>672.25</td>\n",
       "      <td>1</td>\n",
       "    </tr>\n",
       "    <tr>\n",
       "      <th>3</th>\n",
       "      <td>375338a5a6fe1ed0c01cfd2647faa89f</td>\n",
       "      <td>571.42</td>\n",
       "      <td>0.00</td>\n",
       "      <td>1</td>\n",
       "    </tr>\n",
       "    <tr>\n",
       "      <th>4</th>\n",
       "      <td>31472192d34b462b6b951ed33ec0c65c</td>\n",
       "      <td>678.96</td>\n",
       "      <td>278.55</td>\n",
       "      <td>4</td>\n",
       "    </tr>\n",
       "  </tbody>\n",
       "</table>\n",
       "</div>"
      ],
      "text/plain": [
       "                        customer_id  revenue  cumulative_revenue  \\\n",
       "0  d43cc724338819d3e6d86e4db4ae2525   100.83                0.00   \n",
       "1  e80173bffd43eaa806445a602c994a47   277.29                0.00   \n",
       "2  4ac7f94acda12131bd8380a6893b4e92    42.01              672.25   \n",
       "3  375338a5a6fe1ed0c01cfd2647faa89f   571.42                0.00   \n",
       "4  31472192d34b462b6b951ed33ec0c65c   678.96              278.55   \n",
       "\n",
       "   item_quantity_ordered  \n",
       "0                      1  \n",
       "1                      3  \n",
       "2                      1  \n",
       "3                      1  \n",
       "4                      4  "
      ]
     },
     "execution_count": 287,
     "metadata": {},
     "output_type": "execute_result"
    }
   ],
   "source": [
    "#looking at the data\n",
    "mod_data.head()"
   ]
  },
  {
   "cell_type": "code",
   "execution_count": 288,
   "metadata": {},
   "outputs": [
    {
     "data": {
      "image/png": "[encoded data removed]",
      "text/plain": [
       "<Figure size 864x432 with 1 Axes>"
      ]
     },
     "metadata": {
      "needs_background": "light"
     },
     "output_type": "display_data"
    }
   ],
   "source": [
    "#Visualising revenue\n",
    "plt.figure(figsize=(12,6))\n",
    "sns.histplot(mod_data['revenue'], kde=True)\n",
    "plt.show()\n"
   ]
  },
  {
   "cell_type": "code",
   "execution_count": 289,
   "metadata": {},
   "outputs": [
    {
     "data": {
      "image/png": "[encoded data removed]",
      "text/plain": [
       "<Figure size 864x432 with 1 Axes>"
      ]
     },
     "metadata": {
      "needs_background": "light"
     },
     "output_type": "display_data"
    }
   ],
   "source": [
    "# visualising cumulative revenue\n",
    "plt.figure(figsize=(12,6))\n",
    "sns.histplot(mod_data['cumulative_revenue'], kde=True)\n",
    "plt.show()\n",
    "\n",
    "\n"
   ]
  },
  {
   "cell_type": "code",
   "execution_count": 290,
   "metadata": {},
   "outputs": [
    {
     "data": {
      "image/png": "[encoded data removed]",
      "text/plain": [
       "<Figure size 864x432 with 1 Axes>"
      ]
     },
     "metadata": {
      "needs_background": "light"
     },
     "output_type": "display_data"
    }
   ],
   "source": [
    "# visualising item quantity ordered\n",
    "plt.figure(figsize=(12,6))\n",
    "sns.histplot(mod_data['item_quantity_ordered'], kde=True)\n",
    "plt.show()\n"
   ]
  },
  {
   "cell_type": "code",
   "execution_count": 291,
   "metadata": {},
   "outputs": [
    {
     "data": {
      "image/png": "[encoded data removed]",
      "text/plain": [
       "<Figure size 864x432 with 1 Axes>"
      ]
     },
     "metadata": {
      "needs_background": "light"
     },
     "output_type": "display_data"
    }
   ],
   "source": [
    "# visualising customer lifetime value\n",
    "plt.figure(figsize=(12,6))\n",
    "sns.histplot(mod_target, kde=True)\n",
    "plt.show()\n"
   ]
  },
  {
   "cell_type": "markdown",
   "metadata": {},
   "source": [
    "Issue: Skewness in the customer lifetime value and revenue could make modelling challenging and lead to biased predictions. Hence, as a solution Log transformation has been applied to normalise these distributions."
   ]
  },
  {
   "cell_type": "code",
   "execution_count": 292,
   "metadata": {},
   "outputs": [
    {
     "name": "stderr",
     "output_type": "stream",
     "text": [
      "<ipython-input-292-05e34f693adc>:2: SettingWithCopyWarning: \n",
      "A value is trying to be set on a copy of a slice from a DataFrame.\n",
      "Try using .loc[row_indexer,col_indexer] = value instead\n",
      "\n",
      "See the caveats in the documentation: https://pandas.pydata.org/pandas-docs/stable/user_guide/indexing.html#returning-a-view-versus-a-copy\n",
      "  mod_data['revenue'] = np.log1p(mod_data['revenue'])\n",
      "<ipython-input-292-05e34f693adc>:3: SettingWithCopyWarning: \n",
      "A value is trying to be set on a copy of a slice from a DataFrame.\n",
      "Try using .loc[row_indexer,col_indexer] = value instead\n",
      "\n",
      "See the caveats in the documentation: https://pandas.pydata.org/pandas-docs/stable/user_guide/indexing.html#returning-a-view-versus-a-copy\n",
      "  mod_data['cumulative_revenue'] = np.log1p(mod_data['cumulative_revenue'])\n",
      "<ipython-input-292-05e34f693adc>:4: SettingWithCopyWarning: \n",
      "A value is trying to be set on a copy of a slice from a DataFrame.\n",
      "Try using .loc[row_indexer,col_indexer] = value instead\n",
      "\n",
      "See the caveats in the documentation: https://pandas.pydata.org/pandas-docs/stable/user_guide/indexing.html#returning-a-view-versus-a-copy\n",
      "  mod_data['item_quantity_ordered'] = np.log1p(mod_data['item_quantity_ordered'])\n"
     ]
    }
   ],
   "source": [
    "#Transformimg the data using log transformation\n",
    "mod_data['revenue'] = np.log1p(mod_data['revenue'])\n",
    "mod_data['cumulative_revenue'] = np.log1p(mod_data['cumulative_revenue'])\n",
    "mod_data['item_quantity_ordered'] = np.log1p(mod_data['item_quantity_ordered'])\n",
    "mod_target = np.log1p(mod_target)\n"
   ]
  },
  {
   "cell_type": "code",
   "execution_count": 293,
   "metadata": {},
   "outputs": [
    {
     "data": {
      "image/png": "[encoded data removed]",
      "text/plain": [
       "<Figure size 864x432 with 1 Axes>"
      ]
     },
     "metadata": {
      "needs_background": "light"
     },
     "output_type": "display_data"
    },
    {
     "data": {
      "image/png": "[encoded data removed]",
      "text/plain": [
       "<Figure size 864x432 with 1 Axes>"
      ]
     },
     "metadata": {
      "needs_background": "light"
     },
     "output_type": "display_data"
    },
    {
     "data": {
      "image/png": "[encoded data removed]",
      "text/plain": [
       "<Figure size 864x432 with 1 Axes>"
      ]
     },
     "metadata": {
      "needs_background": "light"
     },
     "output_type": "display_data"
    },
    {
     "data": {
      "image/png": "[encoded data removed]",
      "text/plain": [
       "<Figure size 864x432 with 1 Axes>"
      ]
     },
     "metadata": {
      "needs_background": "light"
     },
     "output_type": "display_data"
    }
   ],
   "source": [
    "# Visualising after transformation\n",
    "plt.figure(figsize=(12,6))\n",
    "sns.histplot(mod_data['revenue'], kde=True)\n",
    "plt.show()\n",
    "\n",
    "plt.figure(figsize=(12,6))\n",
    "sns.histplot(mod_data['cumulative_revenue'], kde=True)\n",
    "plt.show()\n",
    "\n",
    "plt.figure(figsize=(12,6))\n",
    "sns.histplot(mod_data['item_quantity_ordered'], kde=True)\n",
    "plt.show()\n",
    "\n",
    "plt.figure(figsize=(12,6))\n",
    "sns.histplot(mod_target, kde=True)\n",
    "plt.show()\n"
   ]
  },
  {
   "cell_type": "code",
   "execution_count": 294,
   "metadata": {},
   "outputs": [
    {
     "data": {
      "text/html": [
       "<div>\n",
       "<style scoped>\n",
       "    .dataframe tbody tr th:only-of-type {\n",
       "        vertical-align: middle;\n",
       "    }\n",
       "\n",
       "    .dataframe tbody tr th {\n",
       "        vertical-align: top;\n",
       "    }\n",
       "\n",
       "    .dataframe thead th {\n",
       "        text-align: right;\n",
       "    }\n",
       "</style>\n",
       "<table border=\"1\" class=\"dataframe\">\n",
       "  <thead>\n",
       "    <tr style=\"text-align: right;\">\n",
       "      <th></th>\n",
       "      <th>customer_id</th>\n",
       "      <th>revenue</th>\n",
       "      <th>cumulative_revenue</th>\n",
       "      <th>item_quantity_ordered</th>\n",
       "    </tr>\n",
       "  </thead>\n",
       "  <tbody>\n",
       "    <tr>\n",
       "      <th>0</th>\n",
       "      <td>d43cc724338819d3e6d86e4db4ae2525</td>\n",
       "      <td>4.623305</td>\n",
       "      <td>0.000000</td>\n",
       "      <td>0.693147</td>\n",
       "    </tr>\n",
       "    <tr>\n",
       "      <th>1</th>\n",
       "      <td>e80173bffd43eaa806445a602c994a47</td>\n",
       "      <td>5.628664</td>\n",
       "      <td>0.000000</td>\n",
       "      <td>1.386294</td>\n",
       "    </tr>\n",
       "    <tr>\n",
       "      <th>2</th>\n",
       "      <td>4ac7f94acda12131bd8380a6893b4e92</td>\n",
       "      <td>3.761433</td>\n",
       "      <td>6.512117</td>\n",
       "      <td>0.693147</td>\n",
       "    </tr>\n",
       "    <tr>\n",
       "      <th>3</th>\n",
       "      <td>375338a5a6fe1ed0c01cfd2647faa89f</td>\n",
       "      <td>6.349873</td>\n",
       "      <td>0.000000</td>\n",
       "      <td>0.693147</td>\n",
       "    </tr>\n",
       "    <tr>\n",
       "      <th>4</th>\n",
       "      <td>31472192d34b462b6b951ed33ec0c65c</td>\n",
       "      <td>6.522034</td>\n",
       "      <td>5.633181</td>\n",
       "      <td>1.609438</td>\n",
       "    </tr>\n",
       "  </tbody>\n",
       "</table>\n",
       "</div>"
      ],
      "text/plain": [
       "                        customer_id   revenue  cumulative_revenue  \\\n",
       "0  d43cc724338819d3e6d86e4db4ae2525  4.623305            0.000000   \n",
       "1  e80173bffd43eaa806445a602c994a47  5.628664            0.000000   \n",
       "2  4ac7f94acda12131bd8380a6893b4e92  3.761433            6.512117   \n",
       "3  375338a5a6fe1ed0c01cfd2647faa89f  6.349873            0.000000   \n",
       "4  31472192d34b462b6b951ed33ec0c65c  6.522034            5.633181   \n",
       "\n",
       "   item_quantity_ordered  \n",
       "0               0.693147  \n",
       "1               1.386294  \n",
       "2               0.693147  \n",
       "3               0.693147  \n",
       "4               1.609438  "
      ]
     },
     "execution_count": 294,
     "metadata": {},
     "output_type": "execute_result"
    }
   ],
   "source": [
    "mod_data.head()"
   ]
  },
  {
   "cell_type": "code",
   "execution_count": 295,
   "metadata": {},
   "outputs": [
    {
     "data": {
      "text/plain": [
       "((44128, 4), (11033, 4), (44128,), (11033,))"
      ]
     },
     "execution_count": 295,
     "metadata": {},
     "output_type": "execute_result"
    }
   ],
   "source": [
    "# Splitting the data into train and test\n",
    "\n",
    "X_train, X_test, y_train, y_test = train_test_split(mod_data, mod_target, test_size=0.2, random_state=42)\n",
    "X_train.shape, X_test.shape, y_train.shape, y_test.shape\n"
   ]
  },
  {
   "cell_type": "code",
   "execution_count": 296,
   "metadata": {},
   "outputs": [
    {
     "name": "stdout",
     "output_type": "stream",
     "text": [
      "Mean Absolute Error: 1.3246941165552062\n"
     ]
    }
   ],
   "source": [
    "# Setting index\n",
    "X_train = X_train.set_index('customer_id')\n",
    "X_test = X_test.set_index('customer_id')\n",
    "\n",
    "# Lets fit th ebest regressor model like earlier\n",
    "best_models['RandomForest'].fit(X_train, y_train)\n",
    "\n",
    "# Predict and calculate the mean absolute error using the best model\n",
    "y_pred = best_models['RandomForest'].predict(X_test)\n",
    "mse = mean_absolute_error(y_test, y_pred)\n",
    "print(f'Mean Absolute Error: {mse}')\n"
   ]
  },
  {
   "cell_type": "markdown",
   "metadata": {},
   "source": [
    "This is the best performing model\n"
   ]
  },
  {
   "cell_type": "markdown",
   "metadata": {},
   "source": [
    "I applied the log transformation as the variables were really skewed in terms of magnitude and then opted for an ensemble method rather than just opting for a simple linear regressor as the provided model.\n",
    "\n",
    "First, the log transformation managed the skewness in the target variable since large outliers would have less effect and variance became stabilized. Further, it made the distribution of data closer to normal, hence feasible for the regression model. Log transformation allowed the interpretation of model outputs in terms of percentage changes, often far more intuitive, especially in contexts involving growth or multiplicative effects.\n",
    "\n",
    "I then decided to use a Random Forest Regressor instead of the simple Linear Regression model, considering that the relationships might be pretty complex and nonlinear. Unlike Linear Regression, which assumes there is a strictly linear relationship between predictors and the target, Random Forests can naturally capture non-linear patterns and interactions between features."
   ]
  },
  {
   "cell_type": "markdown",
   "metadata": {},
   "source": [
    " The log transformation coupled with Random Forest Regressor helped me achieve more accurate and reliable predictions by unlocking the complex pattern capturing in the data, handling skewness, and reducing extreme values. This approach, therefore, outperforms a simple Linear Regression model that could have the non-linearity and variance of this data."
   ]
  },
  {
   "cell_type": "markdown",
   "metadata": {},
   "source": [
    "### Potential next steps\n",
    "- Instead of filling the missing values with mode and median , we could implement a simple ML model and regress the numerical values that are missing. This would be a roboust approach for both categorical and numerical variabale.\n",
    "\n",
    "- Instead of scaling we could also try regularizations that would compensate fro the correlated variables and may contribute for better results. "
   ]
  }
 ],
 "metadata": {
  "kernelspec": {
   "display_name": "base",
   "language": "python",
   "name": "python3"
  },
  "language_info": {
   "codemirror_mode": {
    "name": "ipython",
    "version": 3
   },
   "file_extension": ".py",
   "mimetype": "text/x-python",
   "name": "python",
   "nbconvert_exporter": "python",
   "pygments_lexer": "ipython3",
   "version": "3.8.8"
  }
 },
 "nbformat": 4,
 "nbformat_minor": 2
}
