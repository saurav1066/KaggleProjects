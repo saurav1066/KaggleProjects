{
 "cells": [
  {
   "cell_type": "code",
   "execution_count": 3,
   "metadata": {},
   "outputs": [
    {
     "name": "stdout",
     "output_type": "stream",
     "text": [
      "Collecting biopython\n",
      "  Downloading biopython-1.83-cp38-cp38-win_amd64.whl (2.7 MB)\n",
      "Requirement already satisfied: numpy in c:\\users\\lenovo\\anaconda3\\lib\\site-packages (from biopython) (1.22.4)\n",
      "Installing collected packages: biopython\n",
      "Successfully installed biopython-1.83\n"
     ]
    }
   ],
   "source": [
    "! pip install biopython"
   ]
  },
  {
   "cell_type": "code",
   "execution_count": 12,
   "metadata": {},
   "outputs": [],
   "source": [
    "# Importing SeqIO module from Biopython to parse FASTA files\n",
    "from Bio import SeqIO\n",
    "\n",
    "\"\"\"\n",
    "This function reads a FASTA file, modifies the 30th nucleotide in each sequence according to the variant\n",
    "specified in the header, and writes the modified sequences to a new FASTA file.\n",
    "\"\"\"\n",
    "\n",
    "def process_fasta_file(input_file, output_file):\n",
    " # Open the input FASTA file for reading and output FASTA file for writing\n",
    "    with open(input_file, \"r\") as fasta_in, open(output_file, \"w\") as fasta_out:\n",
    "        # Iterate over each record (sequence) in the FASTA file\n",
    "        for record in SeqIO.parse(fasta_in, \"fasta\"):\n",
    "            #Convert the sequence object to a string\n",
    "            sequence = str(record.seq)\n",
    "\n",
    "            # Ensure that the sequence is at least 30 nucleotides long\n",
    "            if len(sequence) >= 30:\n",
    "                original_nucleotide = sequence[29] # 30th nucleotide (0-based index)\n",
    "                variant_nucleotide = record.id[-1] # Assuming the variant is the last character in the ID as shown in the example\n",
    "\n",
    "                # Replace the 30th nucleotide with the variant\n",
    "                modified_sequence = sequence[:29] + variant_nucleotide + sequence[30:]\n",
    "\n",
    "                # Update the header to include the original nucleotide before the variant\n",
    "                new_id = f\"{record.id[:-1]}_{original_nucleotide}{variant_nucleotide}\"\n",
    "\n",
    "                # Write to the output file\n",
    "                fasta_out.write(f\">{new_id}\\n{modified_sequence}\\n\")\n",
    "\n",
    "if __name__ == \"__main__\":\n",
    "\n",
    " # Process the FASTA file\n",
    " process_fasta_file('ngs.fa/ngs.fa', 'ngs_variants.fa')"
   ]
  }
 ],
 "metadata": {
  "kernelspec": {
   "display_name": "base",
   "language": "python",
   "name": "python3"
  },
  "language_info": {
   "codemirror_mode": {
    "name": "ipython",
    "version": 3
   },
   "file_extension": ".py",
   "mimetype": "text/x-python",
   "name": "python",
   "nbconvert_exporter": "python",
   "pygments_lexer": "ipython3",
   "version": "3.8.8"
  }
 },
 "nbformat": 4,
 "nbformat_minor": 2
}
